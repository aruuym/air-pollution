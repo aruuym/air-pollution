{
 "cells": [
  {
   "cell_type": "markdown",
   "metadata": {},
   "source": [
    "# Analysis for Air Pollution\n"
   ]
  },
  {
   "cell_type": "markdown",
   "metadata": {},
   "source": [
    "###  Abstract \n",
    "\n",
    "\n",
    "Air pollution is the main cause of a global environmental threat. The International Labor Organization defines air pollution as the presence in the air of substances that are harmful to health or otherwise dangerous, regardless of their physical form. Burning fossil fuels, farming and mining are just some of the causes of air pollution. Most often and most of all, they pollute the atmosphere: carbon dioxide, sulfur dioxide, nitrogen oxides and dust.\n",
    "\n",
    "\n",
    "### Introduction\n",
    "\n",
    "Polluted air is absorbed by humans mainly through breathing. It promotes the development of respiratory diseases, allergies, and reproductive disorders. In human life, air pollution causes corrosion of metals and building materials. It also negatively affects the plant world, disrupting the processes of photosynthesis, transpiration and respiration. Polluted air also degrades the condition of water and soil. Globally, air pollution has an impact on climate change. Air pollution also increases the acidity of drinking water. This causes an increase in the content of lead, copper, zinc, aluminum and even cadmium in the water entering our apartments. Highly acidic water destroys plumbing systems, flushing out various toxic substances from them.\n",
    "\n",
    "\n",
    "###  Data description and objectives\n",
    "\n",
    "Scientists, researchers, developers, and citizens can use this data to understand the quality of air near them currently. The dataset only includes the most current measurement available for the location (no historical data. Analysis based on data:\n",
    "\n",
    "1. Country : all countries which is most polluted.\n",
    "2. Area : specific area or city.\n",
    "3. Pollutant : Name of the Pollutant being measured(CO2,PM25,PM10,SO2,NO2,O3,BC)\n",
    "4. Value : value of pollutant.\n",
    "5. Latitude : Latitude in decimal degrees.\n",
    "6. Longitude : Longitude in decimal degrees.\n",
    "7. Risk factor : list of factors to death. \n",
    "8. Risk_numbers : Numbers of death factors.\n",
    "9. Death : Death rates from air pollution.\n",
    "\n",
    " Death by category(risk of death factors collected to one categories) : global deaths broken down by three broad categories:\n",
    "\n",
    "10. –  *Injuries* caused by road accidents, homicides, conflict deaths, drowning, fire-related accidents, natural disasters and suicides.\n",
    "11. –  *Non-communicable diseases.* These are often chronic, long-term illnesses and include cardiovascular diseases (including stroke), cancers, diabetes and chronic respiratory diseases (such as chronic pulmonary disease and asthma, but excluding infectious respiratory diseases such as tuberculosis and influenza).\n",
    "12. – *Communicable diseases* (i.e. infectious diseases) such as HIV/AIDS, malaria, and tuberculosis together with maternal deaths, neonatal deaths and deaths from malnutrition.\n",
    "\n"
   ]
  },
  {
   "cell_type": "markdown",
   "metadata": {},
   "source": [
    "\n",
    "In this analysis, we can absorve visualization and data analysis of :\n",
    "\n",
    "+ Which countries in red zone and struggling from air pollution.\n",
    "+ What kind of pollutant is reason of air pollution.\n",
    "+ Air pollution is one of the world’s leading risk factors for death which shows in people's health,what factors is that.\n",
    "+ What is the death rate by categorie.\n",
    "\n",
    "\n",
    "In conclusion,we can abserv that air pollution has a huge impact to our environment.\n",
    "\n",
    "\n"
   ]
  },
  {
   "cell_type": "code",
   "execution_count": 9,
   "metadata": {},
   "outputs": [
    {
     "ename": "TypeError",
     "evalue": "parser_f() got an unexpected keyword argument 'encode'",
     "output_type": "error",
     "traceback": [
      "\u001b[1;31m---------------------------------------------------------------------------\u001b[0m",
      "\u001b[1;31mTypeError\u001b[0m                                 Traceback (most recent call last)",
      "\u001b[1;32m<ipython-input-9-84457649d1f9>\u001b[0m in \u001b[0;36m<module>\u001b[1;34m\u001b[0m\n\u001b[0;32m      1\u001b[0m \u001b[1;32mimport\u001b[0m \u001b[0mnumpy\u001b[0m \u001b[1;32mas\u001b[0m \u001b[0mnp\u001b[0m \u001b[1;31m# linear algebra\u001b[0m\u001b[1;33m\u001b[0m\u001b[1;33m\u001b[0m\u001b[0m\n\u001b[0;32m      2\u001b[0m \u001b[1;32mimport\u001b[0m \u001b[0mpandas\u001b[0m \u001b[1;32mas\u001b[0m \u001b[0mpd\u001b[0m\u001b[1;33m\u001b[0m\u001b[1;33m\u001b[0m\u001b[0m\n\u001b[1;32m----> 3\u001b[1;33m \u001b[0mdf1\u001b[0m\u001b[1;33m=\u001b[0m\u001b[0mpd\u001b[0m\u001b[1;33m.\u001b[0m\u001b[0mread_csv\u001b[0m\u001b[1;33m(\u001b[0m\u001b[1;34m'openaq(2).csv'\u001b[0m\u001b[1;33m,\u001b[0m \u001b[0mencode\u001b[0m \u001b[1;33m=\u001b[0m \u001b[1;34m'latin'\u001b[0m\u001b[1;33m)\u001b[0m\u001b[1;33m\u001b[0m\u001b[1;33m\u001b[0m\u001b[0m\n\u001b[0m\u001b[0;32m      4\u001b[0m \u001b[0mdf2\u001b[0m\u001b[1;33m=\u001b[0m\u001b[0mpd\u001b[0m\u001b[1;33m.\u001b[0m\u001b[0mread_csv\u001b[0m\u001b[1;33m(\u001b[0m\u001b[1;34m'openaq(3).csv'\u001b[0m\u001b[1;33m,\u001b[0m \u001b[0mencode\u001b[0m \u001b[1;33m=\u001b[0m \u001b[1;34m'latin'\u001b[0m\u001b[1;33m)\u001b[0m\u001b[1;33m\u001b[0m\u001b[1;33m\u001b[0m\u001b[0m\n",
      "\u001b[1;31mTypeError\u001b[0m: parser_f() got an unexpected keyword argument 'encode'"
     ]
    }
   ],
   "source": [
    "import numpy as np # linear algebra\n",
    "import pandas as pd \n",
    "df1=pd.read_csv('openaq(2).csv', encode = 'latin')\n",
    "df2=pd.read_csv('openaq(3).csv', encode = 'latin')"
   ]
  },
  {
   "cell_type": "markdown",
   "metadata": {},
   "source": []
  }
 ],
 "metadata": {
  "kernelspec": {
   "display_name": "Python 3",
   "language": "python",
   "name": "python3"
  },
  "language_info": {
   "codemirror_mode": {
    "name": "ipython",
    "version": 3
   },
   "file_extension": ".py",
   "mimetype": "text/x-python",
   "name": "python",
   "nbconvert_exporter": "python",
   "pygments_lexer": "ipython3",
   "version": "3.8.3"
  }
 },
 "nbformat": 4,
 "nbformat_minor": 4
}
